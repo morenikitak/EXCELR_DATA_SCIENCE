{
  "cells": [
    {
      "cell_type": "markdown",
      "metadata": {
        "id": "AmNahXUATyrE"
      },
      "source": [
        "# Nikita Kiran More(Batch May 2024)\n",
        "# HYPOTHESIS TESTING ASSIGNMENT (HYPOTHESIS TESTING)\n",
        "\n",
        "\n",
        "\n"
      ]
    },
    {
      "cell_type": "code",
      "execution_count": 1,
      "metadata": {
        "id": "GKcWffuNUjwI"
      },
      "outputs": [],
      "source": [
        "import numpy as np\n",
        "from scipy.stats import norm"
      ]
    },
    {
      "cell_type": "markdown",
      "metadata": {
        "id": "FesFRkQ9U5ML"
      },
      "source": [
        "1. State the Hypotheses statement"
      ]
    },
    {
      "cell_type": "code",
      "execution_count": 16,
      "metadata": {
        "colab": {
          "base_uri": "https://localhost:8080/"
        },
        "id": "FCHhQkXsUqmH",
        "outputId": "6f1eae36-5f34-4de6-9f71-9e4b27ba6f9f"
      },
      "outputs": [
        {
          "name": "stdout",
          "output_type": "stream",
          "text": [
            "H0: μ = $1,000 + $5X (theoretical mean weekly cost)\n",
            "H1: μ > $1,000 + $5X (observed mean weekly cost is higher)\n"
          ]
        }
      ],
      "source": [
        "print(\"H0: μ = $1,000 + $5X (theoretical mean weekly cost)\")\n",
        "print(\"H1: μ > $1,000 + $5X (observed mean weekly cost is higher)\")"
      ]
    },
    {
      "cell_type": "markdown",
      "metadata": {
        "id": "R_U3P3ZuViRZ"
      },
      "source": [
        "2. Calculate the Test Statistic"
      ]
    },
    {
      "cell_type": "code",
      "execution_count": 20,
      "metadata": {
        "colab": {
          "base_uri": "https://localhost:8080/"
        },
        "id": "xR33xtp_VCn_",
        "outputId": "35a67019-3f48-4796-eab4-cdc3e18bf0f3"
      },
      "outputs": [
        {
          "name": "stdout",
          "output_type": "stream",
          "text": [
            "Sample Mean =  3050\n",
            "Theoretical Mean =  4000\n",
            "Standard Deviation =  125\n",
            "Sample Size =  25\n"
          ]
        }
      ],
      "source": [
        "sample_mean = 3050  # sample mean weekly cost\n",
        "theoretical_mean = 1000 + 5 * 600  # theoretical mean weekly cost\n",
        "std_dev = 5 * 25  # standard deviation\n",
        "sample_size = 25  # sample size\n",
        "\n",
        "print(\"Sample Mean = \", sample_mean)\n",
        "print( \"Theoretical Mean = \", theoretical_mean)\n",
        "print(\"Standard Deviation = \", std_dev)\n",
        "print(\"Sample Size = \", sample_size)"
      ]
    },
    {
      "cell_type": "code",
      "execution_count": 23,
      "metadata": {
        "colab": {
          "base_uri": "https://localhost:8080/"
        },
        "id": "9brYZQvNV1aZ",
        "outputId": "f2e8ae45-4f2c-4189-92e6-8468e353e976"
      },
      "outputs": [
        {
          "name": "stdout",
          "output_type": "stream",
          "text": [
            "Test Statistic (t) = -38.0000\n"
          ]
        }
      ],
      "source": [
        "test_statistic = (sample_mean - theoretical_mean) / (std_dev / np.sqrt(sample_size))\n",
        "print(f\"Test Statistic (t) = {test_statistic:.4f}\")"
      ]
    },
    {
      "cell_type": "markdown",
      "metadata": {
        "id": "5AtZRi85VxCp"
      },
      "source": [
        "3. Determine the Critical Value"
      ]
    },
    {
      "cell_type": "code",
      "execution_count": 22,
      "metadata": {
        "colab": {
          "base_uri": "https://localhost:8080/"
        },
        "id": "CH7KQtx1V_A8",
        "outputId": "c6f0f22c-7469-4706-eee5-50350b7a4953"
      },
      "outputs": [
        {
          "name": "stdout",
          "output_type": "stream",
          "text": [
            "Critical Value (Z) = 1.6449\n"
          ]
        }
      ],
      "source": [
        "alpha = 0.05  # alpha level\n",
        "critical_value = norm.ppf(1 - alpha)  # critical value from standard normal distribution\n",
        "print(f\"Critical Value (Z) = {critical_value:.4f}\")"
      ]
    },
    {
      "cell_type": "markdown",
      "metadata": {
        "id": "ePISxzDRWSWY"
      },
      "source": [
        "4. Make a Decision"
      ]
    },
    {
      "cell_type": "code",
      "execution_count": 12,
      "metadata": {
        "colab": {
          "base_uri": "https://localhost:8080/"
        },
        "id": "waLxtq3iWUSa",
        "outputId": "7740445e-89a5-407a-cbc9-7b14a4fbdca8"
      },
      "outputs": [
        {
          "name": "stdout",
          "output_type": "stream",
          "text": [
            "Fail to reject the null hypothesis (H0)\n"
          ]
        }
      ],
      "source": [
        "if test_statistic > critical_value:\n",
        "    print(\"Reject the null hypothesis (H0)\")\n",
        "else:\n",
        "    print(\"Fail to reject the null hypothesis (H0)\")"
      ]
    },
    {
      "cell_type": "markdown",
      "metadata": {
        "id": "0nItwISKWizd"
      },
      "source": [
        "5. Conclusion"
      ]
    },
    {
      "cell_type": "code",
      "execution_count": 13,
      "metadata": {
        "colab": {
          "base_uri": "https://localhost:8080/"
        },
        "id": "WVLn3zxmWeLi",
        "outputId": "1bd13f67-5885-4f7a-8c1e-46f300bd0353"
      },
      "outputs": [
        {
          "name": "stdout",
          "output_type": "stream",
          "text": [
            "There is not enough evidence to support the restaurant owners' claim that the weekly operating costs are higher than the model suggests.\n"
          ]
        }
      ],
      "source": [
        "if test_statistic > critical_value:\n",
        "    print(\"There is strong evidence to support the restaurant owners' claim that the weekly operating costs are higher than the model suggests.\")\n",
        "else:\n",
        "    print(\"There is not enough evidence to support the restaurant owners' claim that the weekly operating costs are higher than the model suggests.\")"
      ]
    }
  ],
  "metadata": {
    "colab": {
      "provenance": []
    },
    "kernelspec": {
      "display_name": "Python 3",
      "name": "python3"
    },
    "language_info": {
      "name": "python"
    }
  },
  "nbformat": 4,
  "nbformat_minor": 0
}
