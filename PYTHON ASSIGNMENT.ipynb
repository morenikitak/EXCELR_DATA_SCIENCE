{
 "cells": [
  {
   "cell_type": "code",
   "execution_count": 9,
   "id": "e5c87466",
   "metadata": {},
   "outputs": [],
   "source": [
    "import math\n",
    "import random"
   ]
  },
  {
   "cell_type": "code",
   "execution_count": 2,
   "id": "5258b377",
   "metadata": {},
   "outputs": [],
   "source": [
    "from math import sqrt"
   ]
  },
  {
   "cell_type": "code",
   "execution_count": 3,
   "id": "eae5d6ac",
   "metadata": {},
   "outputs": [],
   "source": [
    "n=23"
   ]
  },
  {
   "cell_type": "code",
   "execution_count": 7,
   "id": "67127579",
   "metadata": {},
   "outputs": [
    {
     "name": "stdout",
     "output_type": "stream",
     "text": [
      "1 is not a prime number\n"
     ]
    }
   ],
   "source": [
    "if(n>1):\n",
    "    for i in range(2, (n//2)+1):\n",
    "        if(n%i)==0:\n",
    "            print(n, \"is not a prime number\")\n",
    "            break\n",
    "    else:\n",
    "        print(n, \"is a prime number\")\n",
    "else:\n",
    "    print(n, \"is not a prime number\")"
   ]
  },
  {
   "cell_type": "markdown",
   "id": "dc8c9f45",
   "metadata": {},
   "source": [
    "# 2)Product of Random Numbers\n",
    "#Develop a Python program that generates two random numbers and asks the user to enter the product of these numbers. The program should then check if the user's answer is correct and display an appropriate message."
   ]
  },
  {
   "cell_type": "code",
   "execution_count": 10,
   "id": "f676ddfc",
   "metadata": {},
   "outputs": [],
   "source": [
    "n1= random.randint(1,10)"
   ]
  },
  {
   "cell_type": "code",
   "execution_count": 11,
   "id": "939863df",
   "metadata": {},
   "outputs": [],
   "source": [
    "n2= random.randint(1,10)"
   ]
  },
  {
   "cell_type": "code",
   "execution_count": 12,
   "id": "734da82f",
   "metadata": {},
   "outputs": [],
   "source": [
    "A = n1+n2"
   ]
  },
  {
   "cell_type": "code",
   "execution_count": 13,
   "id": "656974dc",
   "metadata": {},
   "outputs": [
    {
     "name": "stdout",
     "output_type": "stream",
     "text": [
      "What is the product of 10 and 3?5\n"
     ]
    }
   ],
   "source": [
    "U = int(input(f\"What is the product of {n1} and {n2}?\"))"
   ]
  },
  {
   "cell_type": "code",
   "execution_count": 15,
   "id": "924cf988",
   "metadata": {},
   "outputs": [
    {
     "name": "stdout",
     "output_type": "stream",
     "text": [
      "incorrect. Correct ans is  13\n"
     ]
    }
   ],
   "source": [
    "if U == A:\n",
    "    print(\"Correct\")\n",
    "else:\n",
    "    print(f\"incorrect. Correct ans is  {A}\")"
   ]
  },
  {
   "cell_type": "markdown",
   "id": "828fa25a",
   "metadata": {},
   "source": [
    "# 3)Squares of Even/Odd Numbers\n",
    "#Create a Python script that prints the squares of all even or odd numbers within the range of 100 to 200. Choose either even or odd numbers and document your choice in the code."
   ]
  },
  {
   "cell_type": "code",
   "execution_count": 28,
   "id": "6ecfc6eb",
   "metadata": {},
   "outputs": [
    {
     "name": "stdout",
     "output_type": "stream",
     "text": [
      "The square of 100 is 10000\n",
      "The square of 102 is 10404\n",
      "The square of 104 is 10816\n",
      "The square of 106 is 11236\n",
      "The square of 108 is 11664\n",
      "The square of 110 is 12100\n",
      "The square of 112 is 12544\n",
      "The square of 114 is 12996\n",
      "The square of 116 is 13456\n",
      "The square of 118 is 13924\n",
      "The square of 120 is 14400\n",
      "The square of 122 is 14884\n",
      "The square of 124 is 15376\n",
      "The square of 126 is 15876\n",
      "The square of 128 is 16384\n",
      "The square of 130 is 16900\n",
      "The square of 132 is 17424\n",
      "The square of 134 is 17956\n",
      "The square of 136 is 18496\n",
      "The square of 138 is 19044\n",
      "The square of 140 is 19600\n",
      "The square of 142 is 20164\n",
      "The square of 144 is 20736\n",
      "The square of 146 is 21316\n",
      "The square of 148 is 21904\n",
      "The square of 150 is 22500\n",
      "The square of 152 is 23104\n",
      "The square of 154 is 23716\n",
      "The square of 156 is 24336\n",
      "The square of 158 is 24964\n",
      "The square of 160 is 25600\n",
      "The square of 162 is 26244\n",
      "The square of 164 is 26896\n",
      "The square of 166 is 27556\n",
      "The square of 168 is 28224\n",
      "The square of 170 is 28900\n",
      "The square of 172 is 29584\n",
      "The square of 174 is 30276\n",
      "The square of 176 is 30976\n",
      "The square of 178 is 31684\n",
      "The square of 180 is 32400\n",
      "The square of 182 is 33124\n",
      "The square of 184 is 33856\n",
      "The square of 186 is 34596\n",
      "The square of 188 is 35344\n",
      "The square of 190 is 36100\n",
      "The square of 192 is 36864\n",
      "The square of 194 is 37636\n",
      "The square of 196 is 38416\n",
      "The square of 198 is 39204\n",
      "The square of 200 is 40000\n"
     ]
    }
   ],
   "source": [
    "def squares_of_even_numbers(start, end):\n",
    "    for N in range(start, end + 1):\n",
    "        if N % 2 == 0: \n",
    "            print(f\"The square of {N} is {N ** 2}\")\n",
    "\n",
    "if __name__ == \"__main__\":\n",
    "    psquares_of_even_numbers(100, 200)"
   ]
  },
  {
   "cell_type": "code",
   "execution_count": 27,
   "id": "14172e45",
   "metadata": {},
   "outputs": [
    {
     "name": "stdout",
     "output_type": "stream",
     "text": [
      "The square of 101 is 10201\n",
      "The square of 103 is 10609\n",
      "The square of 105 is 11025\n",
      "The square of 107 is 11449\n",
      "The square of 109 is 11881\n",
      "The square of 111 is 12321\n",
      "The square of 113 is 12769\n",
      "The square of 115 is 13225\n",
      "The square of 117 is 13689\n",
      "The square of 119 is 14161\n",
      "The square of 121 is 14641\n",
      "The square of 123 is 15129\n",
      "The square of 125 is 15625\n",
      "The square of 127 is 16129\n",
      "The square of 129 is 16641\n",
      "The square of 131 is 17161\n",
      "The square of 133 is 17689\n",
      "The square of 135 is 18225\n",
      "The square of 137 is 18769\n",
      "The square of 139 is 19321\n",
      "The square of 141 is 19881\n",
      "The square of 143 is 20449\n",
      "The square of 145 is 21025\n",
      "The square of 147 is 21609\n",
      "The square of 149 is 22201\n",
      "The square of 151 is 22801\n",
      "The square of 153 is 23409\n",
      "The square of 155 is 24025\n",
      "The square of 157 is 24649\n",
      "The square of 159 is 25281\n",
      "The square of 161 is 25921\n",
      "The square of 163 is 26569\n",
      "The square of 165 is 27225\n",
      "The square of 167 is 27889\n",
      "The square of 169 is 28561\n",
      "The square of 171 is 29241\n",
      "The square of 173 is 29929\n",
      "The square of 175 is 30625\n",
      "The square of 177 is 31329\n",
      "The square of 179 is 32041\n",
      "The square of 181 is 32761\n",
      "The square of 183 is 33489\n",
      "The square of 185 is 34225\n",
      "The square of 187 is 34969\n",
      "The square of 189 is 35721\n",
      "The square of 191 is 36481\n",
      "The square of 193 is 37249\n",
      "The square of 195 is 38025\n",
      "The square of 197 is 38809\n",
      "The square of 199 is 39601\n"
     ]
    }
   ],
   "source": [
    "def squares_of_odd_numbers(start, end):\n",
    "    for num in range(start, end + 1):\n",
    "        if num % 2 != 0:  # Check if the number is odd\n",
    "            print(f\"The square of {num} is {num ** 2}\")\n",
    "\n",
    "if __name__ == \"__main__\":\n",
    "    squares_of_odd_numbers(100, 200)"
   ]
  },
  {
   "cell_type": "markdown",
   "id": "6efd4aec",
   "metadata": {},
   "source": [
    "#  3) Word counter\n",
    "'''write a program to count the number of words in a given text.\n",
    "example:\n",
    "input_text = \"This is a sample text. This text will be used to demonstrate the word counter.\"\n",
    "Expected output:\n",
    "'This': 2 \n",
    "'is': 1\n",
    "'a': 1\n",
    "'sample': 1\n",
    "'text.': 1'''\n",
    "\n"
   ]
  },
  {
   "cell_type": "code",
   "execution_count": 31,
   "id": "7478daa3",
   "metadata": {},
   "outputs": [],
   "source": [
    "from collections import Counter"
   ]
  },
  {
   "cell_type": "code",
   "execution_count": 32,
   "id": "cee7b560",
   "metadata": {},
   "outputs": [],
   "source": [
    "def word_counter(input_text):\n",
    "    words = input_text.split()\n",
    "    word_counts = Counter(words)\n",
    "    for word, count in word_counts.items():\n",
    "        print(f\"'{word}'{count}\")"
   ]
  },
  {
   "cell_type": "code",
   "execution_count": 33,
   "id": "3e9bb92c",
   "metadata": {},
   "outputs": [
    {
     "name": "stdout",
     "output_type": "stream",
     "text": [
      "'This'2\n",
      "'is'1\n",
      "'a'1\n",
      "'sample'1\n",
      "'text.'1\n",
      "'text'1\n",
      "'will'1\n",
      "'be'1\n",
      "'used'1\n",
      "'to'1\n",
      "'demonstrate'1\n",
      "'the'1\n",
      "'word'1\n",
      "'counter.'1\n"
     ]
    }
   ],
   "source": [
    "input_text = \"This is a sample text. This text will be used to demonstrate the word counter.\"\n",
    "word_counter(input_text)"
   ]
  },
  {
   "cell_type": "markdown",
   "id": "9175f8df",
   "metadata": {},
   "source": [
    "# 5: Check for Palindrome\n",
    "Write a Python function called is_palindrome that takes a string as input and returns True if the string is a palindrome, and False otherwise. A palindrome is a word, phrase, number, or other sequence of characters that reads the same forward and backward, ignoring spaces, punctuation, and capitalization.\n",
    "Example:\n",
    "Input: \"racecar\"\n",
    "Expected Output: True\n"
   ]
  },
  {
   "cell_type": "code",
   "execution_count": 34,
   "id": "40ff8399",
   "metadata": {},
   "outputs": [],
   "source": [
    "import re"
   ]
  },
  {
   "cell_type": "code",
   "execution_count": 35,
   "id": "0a4aa9fb",
   "metadata": {},
   "outputs": [],
   "source": [
    "def palindrome(s):\n",
    "    A = re.sub(r'[^A-Za-z0-9]','',s).lower()\n",
    "    return A == A[::-1]"
   ]
  },
  {
   "cell_type": "code",
   "execution_count": 37,
   "id": "6ee7820e",
   "metadata": {},
   "outputs": [
    {
     "name": "stdout",
     "output_type": "stream",
     "text": [
      "True\n"
     ]
    }
   ],
   "source": [
    "print(palindrome(\"racecar\"))  "
   ]
  },
  {
   "cell_type": "code",
   "execution_count": null,
   "id": "fdd6802c",
   "metadata": {},
   "outputs": [],
   "source": []
  }
 ],
 "metadata": {
  "kernelspec": {
   "display_name": "Python 3 (ipykernel)",
   "language": "python",
   "name": "python3"
  },
  "language_info": {
   "codemirror_mode": {
    "name": "ipython",
    "version": 3
   },
   "file_extension": ".py",
   "mimetype": "text/x-python",
   "name": "python",
   "nbconvert_exporter": "python",
   "pygments_lexer": "ipython3",
   "version": "3.11.3"
  }
 },
 "nbformat": 4,
 "nbformat_minor": 5
}
